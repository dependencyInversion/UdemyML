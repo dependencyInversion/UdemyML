{
 "cells": [
  {
   "cell_type": "code",
   "execution_count": 69,
   "metadata": {},
   "outputs": [],
   "source": [
    "import numpy as np\n",
    "np.random.seed(42)"
   ]
  },
  {
   "cell_type": "code",
   "execution_count": 70,
   "metadata": {},
   "outputs": [],
   "source": [
    "from sklearn.datasets import load_boston\n",
    "from sklearn.model_selection import train_test_split\n",
    "from sklearn.metrics import r2_score\n",
    "import matplotlib.pyplot as plt"
   ]
  },
  {
   "cell_type": "code",
   "execution_count": 71,
   "metadata": {},
   "outputs": [],
   "source": [
    "dataset = load_boston()"
   ]
  },
  {
   "cell_type": "markdown",
   "metadata": {},
   "source": [
    "#### Einfache Lineare Regression\n",
    "\n",
    "## Bedeutung\n",
    "\n",
    "<font size=\"4\">\n",
    "\n",
    "- $R^2$: Wie viel Streuung kann von dem Regressionsmodell erklärt werden\n",
    "- coef: Steigung der Geraden\n",
    "- intercept: y-Achsenabschnitt\n",
    "\n",
    "</font>\n",
    "\n",
    "## Symbole\n",
    "\n",
    "<font size=\"4\">\n",
    "\n",
    "- $\\bar{x}$: Mittelwert von $x$\n",
    "- $\\bar{y}$: Mittelwert von $y$\n",
    "- $\\hat{y}$: Prediktion vom Modell\n",
    "\n",
    "</font>\n",
    "\n",
    "## Datensatz\n",
    "\n",
    "<font size=\"4\">\n",
    "\n",
    "- $m$: Anzahl an Samples\n",
    "- $n$: Anzahl an Features\n",
    "- $x$: Input-Daten (Features)\n",
    "- $y$: Output Daten (Targets)\n",
    "\n",
    "## Formeln\n",
    "\n",
    "<font size=\"4\">\n",
    "\n",
    "- $\\beta = (X^TX)^{-1}X^Ty$\n",
    "- coef = $\\beta$\\[1:\\]\n",
    "- intercept = $\\beta$\\[0\\]\n",
    "- $\\hat{y} = X\\beta$\n",
    "- $R^2 = 1 - \\frac{\\sum_{i=1}^n(y_i-\\hat{y})^2}{\\sum_{i=1}^n(y_i-\\bar{y})^2}$\n",
    "\n",
    "</font>"
   ]
  },
  {
   "cell_type": "code",
   "execution_count": 72,
   "metadata": {},
   "outputs": [],
   "source": [
    "class LinearRegression:\n",
    "    def __init__(self, use_intercept: bool = True) -> None:\n",
    "        self.coef_: np.ndarray = None\n",
    "        self.intercept_: np.ndarray = None\n",
    "        self.use_intercept = use_intercept\n",
    "\n",
    "    def _add_intercept(self, x: np.ndarray) -> np.ndarray:\n",
    "        intercepts = np.ones(shape=(x.shape[0]))\n",
    "        x = np.column_stack((intercepts, x))\n",
    "        return x\n",
    "\n",
    "    def fit(self, x: np.ndarray, y: np.ndarray) -> None:\n",
    "        if self.use_intercept:\n",
    "            x = self._add_intercept(x)\n",
    "        inner = np.dot(x.T, x)\n",
    "        inv = np.linalg.inv(inner)\n",
    "        beta = np.dot(np.dot(inv, x.T), y)\n",
    "        self.intercept_ = beta[0]\n",
    "        self.coef_ = beta[1:]\n",
    "\n",
    "    def predict(self, x: np.ndarray) -> np.ndarray:\n",
    "        y_pred = x * self.coef_ + self.intercept_\n",
    "        return y_pred\n",
    "\n",
    "    def score(self, x: np.ndarray, y: np.ndarray):\n",
    "        y_pred = self.predict(x)\n",
    "        y_mean = np.mean(y, axis=0)\n",
    "        numerator = np.sum((y - y_pred)**2)\n",
    "        denominator = np.sum((y - y_mean)**2)\n",
    "        r2_score = 1.0 - (numerator / denominator)\n",
    "        return r2_score"
   ]
  },
  {
   "cell_type": "code",
   "execution_count": 73,
   "metadata": {},
   "outputs": [],
   "source": [
    "x = dataset.data[:, 11]\n",
    "y = dataset.target\n",
    "\n",
    "x_train, x_test, y_train, y_test = train_test_split(x, y, test_size=0.3)"
   ]
  },
  {
   "cell_type": "code",
   "execution_count": 74,
   "metadata": {
    "scrolled": false
   },
   "outputs": [
    {
     "name": "stdout",
     "output_type": "stream",
     "text": [
      "Coef: [0.03510172]\n",
      "Intercept: 10.389667286755166\n",
      "R2: 0.09775485665192662\n",
      "R2: 0.09775485665192662\n"
     ]
    }
   ],
   "source": [
    "regr = LinearRegression()\n",
    "regr.fit(x_train, y_train)\n",
    "y_pred = regr.predict(x_test)\n",
    "r2_own = regr.score(x_test, y_test)\n",
    "r2_sklearn = r2_score(y_test, y_pred)\n",
    "\n",
    "print(f\"Coef: {regr.coef_}\")\n",
    "print(f\"Intercept: {regr.intercept_}\")\n",
    "print(f\"R2: {r2_own}\")\n",
    "print(f\"R2: {r2_sklearn}\")"
   ]
  },
  {
   "cell_type": "code",
   "execution_count": 75,
   "metadata": {},
   "outputs": [],
   "source": [
    "def plot_regressor(regr: LinearRegression, x: np.ndarray, y: np.ndarray) -> None:\n",
    "    x_arange = np.arange(start=3.0, stop=10.0, step=0.05)\n",
    "    y_arange = regr.predict(x_arange)\n",
    "\n",
    "    plt.scatter(x, y)\n",
    "    plt.plot(x_arange, y_arange, color=\"red\")\n",
    "    plt.show()"
   ]
  },
  {
   "cell_type": "code",
   "execution_count": 76,
   "metadata": {},
   "outputs": [
    {
     "data": {
      "image/png": "[encoded data removed]",
      "text/plain": [
       "<Figure size 432x288 with 1 Axes>"
      ]
     },
     "metadata": {},
     "output_type": "display_data"
    }
   ],
   "source": [
    "plot_regressor(regr, x_test, y_test)"
   ]
  },
  {
   "cell_type": "code",
   "execution_count": 77,
   "metadata": {},
   "outputs": [],
   "source": [
    "def plot_residual(regr: LinearRegression, x: np.ndarray, y: np.ndarray, title: str) -> None:\n",
    "    y_pred = regr.predict(x)\n",
    "    min_val = np.min(y) + 0.1\n",
    "    max_val = np.max(y) + 0.1\n",
    "\n",
    "    plt.hlines(0, min_val, max_val, color=\"red\")\n",
    "    plt.scatter(y, y_pred - y, color=\"blue\", s=8)\n",
    "    plt.title(title)\n",
    "    plt.show()"
   ]
  },
  {
   "cell_type": "code",
   "execution_count": 78,
   "metadata": {},
   "outputs": [
    {
     "data": {
      "image/png": "[encoded data removed]",
      "text/plain": [
       "<Figure size 432x288 with 1 Axes>"
      ]
     },
     "metadata": {},
     "output_type": "display_data"
    },
    {
     "data": {
      "image/png": "[encoded data removed]",
      "text/plain": [
       "<Figure size 432x288 with 1 Axes>"
      ]
     },
     "metadata": {},
     "output_type": "display_data"
    }
   ],
   "source": [
    "plot_residual(regr, x_test, y_test, title=\"Test Set\")\n",
    "plot_residual(regr, x_train, y_train, title=\"Train Set\")"
   ]
  }
 ],
 "metadata": {
  "kernelspec": {
   "display_name": "Python 3",
   "language": "python",
   "name": "python3"
  },
  "language_info": {
   "codemirror_mode": {
    "name": "ipython",
    "version": 3
   },
   "file_extension": ".py",
   "mimetype": "text/x-python",
   "name": "python",
   "nbconvert_exporter": "python",
   "pygments_lexer": "ipython3",
   "version": "3.9.7"
  }
 },
 "nbformat": 4,
 "nbformat_minor": 2
}
