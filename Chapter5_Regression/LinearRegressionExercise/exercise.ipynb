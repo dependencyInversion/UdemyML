{
 "cells": [
  {
   "cell_type": "code",
   "execution_count": 52,
   "metadata": {},
   "outputs": [],
   "source": [
    "import random\n",
    "random.seed(42)\n",
    "import numpy as np\n",
    "np.random.seed(42)"
   ]
  },
  {
   "cell_type": "code",
   "execution_count": 53,
   "metadata": {},
   "outputs": [],
   "source": [
    "from typing import List\n",
    "from typing import Tuple\n",
    "\n",
    "import pandas as pd\n",
    "from sklearn.datasets import load_boston\n",
    "from sklearn.model_selection import train_test_split\n",
    "from sklearn.linear_model import LinearRegression"
   ]
  },
  {
   "cell_type": "code",
   "execution_count": 54,
   "metadata": {},
   "outputs": [],
   "source": [
    "dataset = load_boston()\n",
    "df = pd.DataFrame(dataset.data, columns=dataset.feature_names)"
   ]
  },
  {
   "cell_type": "code",
   "execution_count": 55,
   "metadata": {},
   "outputs": [
    {
     "name": "stdout",
     "output_type": "stream",
     "text": [
      "['CRIM', 'ZN', 'INDUS', 'CHAS', 'NOX', 'RM', 'AGE', 'DIS', 'RAD', 'TAX', 'PTRATIO', 'B', 'LSTAT']\n",
      "Num features:  13\n"
     ]
    }
   ],
   "source": [
    "all_features = df.columns.values.tolist()\n",
    "num_features_total = len(all_features)\n",
    "print(all_features)\n",
    "print(\"Num features: \", num_features_total)"
   ]
  },
  {
   "cell_type": "code",
   "execution_count": 56,
   "metadata": {},
   "outputs": [],
   "source": [
    "x = dataset[\"data\"]\n",
    "y = dataset['target']"
   ]
  },
  {
   "cell_type": "code",
   "execution_count": 57,
   "metadata": {},
   "outputs": [
    {
     "name": "stdout",
     "output_type": "stream",
     "text": [
      "(506, 13)\n",
      "(506,)\n"
     ]
    }
   ],
   "source": [
    "print(x.shape)\n",
    "print(y.shape)"
   ]
  },
  {
   "cell_type": "markdown",
   "metadata": {},
   "source": [
    "# Exercise 1\n",
    "\n",
    "\n",
    "<font size=\"5\">\n",
    "Test the model performance for a subset of the given dataset where you only use one feature (hence not all 13 features ;)\n",
    "</font> "
   ]
  },
  {
   "cell_type": "code",
   "execution_count": 58,
   "metadata": {},
   "outputs": [],
   "source": [
    "def add_intercept(x: np.ndarray) -> np.ndarray:\n",
    "        intercepts = np.ones(shape=(x.shape[0]))\n",
    "        x = np.column_stack((intercepts, x))\n",
    "        return x"
   ]
  },
  {
   "cell_type": "code",
   "execution_count": 59,
   "metadata": {},
   "outputs": [
    {
     "name": "stdout",
     "output_type": "stream",
     "text": [
      "Feature: CRIM\n",
      "R2 score: 0.13814008417132628\n",
      "\n",
      "Feature: ZN\n",
      "R2 score: 0.15638621004081643\n",
      "\n",
      "Feature: INDUS\n",
      "R2 score: 0.11502275985264965\n",
      "\n",
      "Feature: CHAS\n",
      "R2 score: 0.015996439988834488\n",
      "\n",
      "Feature: NOX\n",
      "R2 score: 0.21437745037434752\n",
      "\n",
      "Feature: RM\n",
      "R2 score: 0.47938829361849133\n",
      "\n",
      "Feature: AGE\n",
      "R2 score: 0.2475526536799063\n",
      "\n",
      "Feature: DIS\n",
      "R2 score: -0.03743139263865247\n",
      "\n",
      "Feature: RAD\n",
      "R2 score: 0.08176044033536023\n",
      "\n",
      "Feature: TAX\n",
      "R2 score: 0.2948573932208305\n",
      "\n",
      "Feature: PTRATIO\n",
      "R2 score: 0.24113282841490113\n",
      "\n",
      "Feature: B\n",
      "R2 score: 0.11264117043013844\n",
      "\n",
      "Feature: LSTAT\n",
      "R2 score: 0.5380052327556764\n",
      "\n"
     ]
    }
   ],
   "source": [
    "for i in range(len(all_features)):\n",
    "    x = dataset.data[:, i]\n",
    "    feature_name = all_features[i]\n",
    "    x = add_intercept(x)\n",
    "    x_train, x_test, y_train, y_test = train_test_split(x, y, test_size=0.3)\n",
    "\n",
    "    regr = LinearRegression()\n",
    "    regr.fit(x_train, y_train)\n",
    "\n",
    "    r2_score = regr.score(x_test, y_test)\n",
    "    print(f\"Feature: {feature_name}\")\n",
    "    print(f\"R2 score: {r2_score}\")\n",
    "    print()"
   ]
  },
  {
   "cell_type": "markdown",
   "metadata": {},
   "source": [
    "# Exercise 2\n",
    "\n",
    "<font size=\"5\">\n",
    "Plot the standard deviation, and variance of each feature.\n",
    "Do these values correlate to the performance differences from exercise 1?\n",
    "</font> "
   ]
  },
  {
   "cell_type": "code",
   "execution_count": 60,
   "metadata": {},
   "outputs": [
    {
     "name": "stdout",
     "output_type": "stream",
     "text": [
      "Coef: -0.3829134100704193\n",
      "Intercept: 23.850708741162506\n",
      "\n",
      "Coef: 0.15897945544928363\n",
      "Intercept: 20.929409993246775\n",
      "\n",
      "Coef: -0.6600319111679346\n",
      "Intercept: 29.95151314531303\n",
      "\n",
      "Coef: 7.106439393939387\n",
      "Intercept: 21.656060606060606\n",
      "\n",
      "Coef: -34.380291267585605\n",
      "Intercept: 41.16992939969644\n",
      "\n",
      "Coef: 9.190658165933144\n",
      "Intercept: -35.40471519554286\n",
      "\n",
      "Coef: -0.1350984328349001\n",
      "Intercept: 31.6611239458421\n",
      "\n",
      "Coef: 1.3153693552180674\n",
      "Intercept: 17.254203182273685\n",
      "\n",
      "Coef: -0.42256126362607244\n",
      "Intercept: 26.27725922784088\n",
      "\n",
      "Coef: -0.024544684882731694\n",
      "Intercept: 32.50606596120581\n",
      "\n",
      "Coef: -2.2886684835028\n",
      "Intercept: 64.98603946849931\n",
      "\n",
      "Coef: 0.03574259668579368\n",
      "Intercept: 9.991161514464572\n",
      "\n",
      "Coef: -0.9379702842960074\n",
      "Intercept: 34.30945844294357\n",
      "\n"
     ]
    }
   ],
   "source": [
    "for i in range(len(all_features)):\n",
    "    x = dataset.data[:, i]\n",
    "    feature_name = all_features[i]\n",
    "    x = add_intercept(x)\n",
    "    x_train, x_test, y_train, y_test = train_test_split(x, y, test_size=0.3)\n",
    "\n",
    "    regr = LinearRegression()\n",
    "    regr.fit(x_train, y_train)\n",
    "\n",
    "    r2_score = regr.score(x_test, y_test)\n",
    "    print(f\"Coef: {regr.coef_[1]}\")\n",
    "    print(f\"Intercept: {regr.intercept_}\")\n",
    "    print()"
   ]
  }
 ],
 "metadata": {
  "kernelspec": {
   "display_name": "Python 3",
   "language": "python",
   "name": "python3"
  },
  "language_info": {
   "codemirror_mode": {
    "name": "ipython",
    "version": 3
   },
   "file_extension": ".py",
   "mimetype": "text/x-python",
   "name": "python",
   "nbconvert_exporter": "python",
   "pygments_lexer": "ipython3",
   "version": "3.9.7"
  }
 },
 "nbformat": 4,
 "nbformat_minor": 2
}
