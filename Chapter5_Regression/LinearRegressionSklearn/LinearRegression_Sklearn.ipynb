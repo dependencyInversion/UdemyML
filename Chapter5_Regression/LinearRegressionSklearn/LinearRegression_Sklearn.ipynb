{
 "cells": [
  {
   "cell_type": "code",
   "execution_count": 78,
   "metadata": {},
   "outputs": [],
   "source": [
    "import numpy as np\n",
    "import pandas as pd\n",
    "from sklearn.datasets import load_boston\n",
    "from sklearn.model_selection import train_test_split\n",
    "from sklearn.linear_model import LinearRegression\n",
    "import matplotlib.pyplot as plt"
   ]
  },
  {
   "cell_type": "code",
   "execution_count": 79,
   "metadata": {},
   "outputs": [],
   "source": [
    "dataset = load_boston()\n",
    "df = pd.DataFrame(dataset.data, columns=dataset.feature_names)"
   ]
  },
  {
   "cell_type": "code",
   "execution_count": 80,
   "metadata": {},
   "outputs": [],
   "source": [
    "np.random.seed(42)\n",
    "\n",
    "x = dataset.data[:, 5:6]\n",
    "y = dataset.target\n",
    "\n",
    "x_train, x_test, y_train, y_test = train_test_split(x, y, test_size=0.3)"
   ]
  },
  {
   "cell_type": "markdown",
   "metadata": {},
   "source": [
    "#### Einfache Lineare Regression\n",
    "\n",
    "## Bedeutung\n",
    "\n",
    "<font size=\"4\">\n",
    "\n",
    "- $R^2$: Wie viel Streuung kann von dem Regressionsmodell erklärt werden\n",
    "- coef: Steigung der Geraden\n",
    "- intercept: y-Achsenabschnitt\n",
    "\n",
    "</font>\n",
    "\n",
    "## Symbole\n",
    "\n",
    "<font size=\"4\">\n",
    "\n",
    "- $\\bar{x}$: Mittelwert von $x$\n",
    "- $\\bar{y}$: Mittelwert von $y$\n",
    "- $\\hat{y}$: Prediktion vom Modell\n",
    "\n",
    "</font>\n",
    "\n",
    "## Datensatz\n",
    "\n",
    "<font size=\"4\">\n",
    "\n",
    "- $m$: Anzahl an Samples\n",
    "- $n$: Anzahl an Features\n",
    "- $x$: Input-Daten (Features)\n",
    "- $y$: Output Daten (Targets)\n",
    "\n",
    "## Formeln\n",
    "\n",
    "<font size=\"4\">\n",
    "\n",
    "- $\\beta = (X^TX)^{-1}X^Ty$\n",
    "- coef = $\\beta$\\[1:\\]\n",
    "- intercept = $\\beta$\\[0\\]\n",
    "- $\\hat{y} = X\\beta$\n",
    "- $R^2 = 1 - \\frac{\\sum_{i=1}^n(y_i-\\hat{y})^2}{\\sum_{i=1}^n(y_i-\\bar{y})^2}$\n",
    "\n",
    "</font>"
   ]
  },
  {
   "cell_type": "code",
   "execution_count": 81,
   "metadata": {
    "scrolled": false
   },
   "outputs": [
    {
     "name": "stdout",
     "output_type": "stream",
     "text": [
      "Coef: [9.1181022]\n",
      "Intercept: -34.662307438406785\n",
      "R2: 0.4584649934303068\n"
     ]
    }
   ],
   "source": [
    "regr = LinearRegression()\n",
    "regr.fit(x_train, y_train)\n",
    "y_pred = regr.predict(x_test)\n",
    "r2_own = regr.score(x_test, y_test)\n",
    "\n",
    "print(f\"Coef: {regr.coef_}\")\n",
    "print(f\"Intercept: {regr.intercept_}\")\n",
    "print(f\"R2: {r2_own}\")"
   ]
  },
  {
   "cell_type": "code",
   "execution_count": 82,
   "metadata": {},
   "outputs": [],
   "source": [
    "def plot_regressor(regr: LinearRegression, x_test: np.ndarray, y_test: np.ndarray) -> None:\n",
    "    x1 = np.min(x) - 1\n",
    "    x2 = np.max(x) + 1\n",
    "    x_points = np.array([x1, x2])\n",
    "    x_points = np.reshape(x_points, (-1, 1))\n",
    "    y_pred = regr.predict(x_points)\n",
    "    y1, y2 = y_pred\n",
    "\n",
    "    plt.plot((x1, x2), (y1, y2), color=\"white\")\n",
    "    plt.scatter(x_test, y_test, color=\"red\")\n",
    "    plt.show()"
   ]
  },
  {
   "cell_type": "code",
   "execution_count": 83,
   "metadata": {},
   "outputs": [],
   "source": [
    "# plot_regressor(regr, x_test, y_test)"
   ]
  },
  {
   "cell_type": "code",
   "execution_count": 84,
   "metadata": {},
   "outputs": [],
   "source": [
    "def plot_residual(\n",
    "    regr: LinearRegression,\n",
    "    x_train: np.ndarray,\n",
    "    y_train: np.ndarray,\n",
    "    x_test: np.ndarray,\n",
    "    y_test: np.ndarray,\n",
    "    title: str\n",
    ") -> None:\n",
    "    y_pred_train = regr.predict(x_train)\n",
    "    y_pred_test = regr.predict(x_test)\n",
    "\n",
    "    min_val = min(np.min(y_pred_train), np.min(y_pred_test)) - 0.1\n",
    "    max_val = max(np.max(y_pred_train), np.max(y_pred_test)) + 0.1\n",
    "\n",
    "    plt.scatter(y_pred_train, y_pred_train - y_train, color=\"blue\", s=8)\n",
    "    plt.scatter(y_pred_test, y_pred_test - y_test, color=\"red\", s=8)\n",
    "    plt.hlines(0, min_val, max_val, color=\"white\")\n",
    "    plt.legend([\"Train\", \"Test\"])\n",
    "    plt.show()"
   ]
  },
  {
   "cell_type": "code",
   "execution_count": 85,
   "metadata": {},
   "outputs": [
    {
     "data": {
      "image/png": "[encoded data removed]",
      "text/plain": [
       "<Figure size 432x288 with 1 Axes>"
      ]
     },
     "metadata": {},
     "output_type": "display_data"
    }
   ],
   "source": [
    "plot_residual(regr, x_train, y_train, x_test, y_test, title=\"Test Set\")"
   ]
  }
 ],
 "metadata": {
  "kernelspec": {
   "display_name": "Python 3",
   "language": "python",
   "name": "python3"
  },
  "language_info": {
   "codemirror_mode": {
    "name": "ipython",
    "version": 3
   },
   "file_extension": ".py",
   "mimetype": "text/x-python",
   "name": "python",
   "nbconvert_exporter": "python",
   "pygments_lexer": "ipython3",
   "version": "3.9.7"
  }
 },
 "nbformat": 4,
 "nbformat_minor": 2
}
