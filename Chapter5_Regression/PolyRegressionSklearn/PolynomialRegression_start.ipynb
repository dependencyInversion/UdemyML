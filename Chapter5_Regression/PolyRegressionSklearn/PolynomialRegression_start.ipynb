{
 "cells": [
  {
   "cell_type": "code",
   "execution_count": 77,
   "metadata": {},
   "outputs": [],
   "source": [
    "import numpy as np\n",
    "np.random.seed(42)"
   ]
  },
  {
   "cell_type": "code",
   "execution_count": 78,
   "metadata": {},
   "outputs": [],
   "source": [
    "from sklearn.datasets import load_boston\n",
    "from sklearn.model_selection import train_test_split\n",
    "from sklearn.linear_model import LinearRegression\n",
    "import matplotlib.pyplot as plt"
   ]
  },
  {
   "cell_type": "code",
   "execution_count": 79,
   "metadata": {},
   "outputs": [],
   "source": [
    "dataset = load_boston()"
   ]
  },
  {
   "cell_type": "code",
   "execution_count": 80,
   "metadata": {},
   "outputs": [],
   "source": [
    "x = dataset.data[:, 5:6] # select feature 0 and 1\n",
    "y = dataset.target\n",
    "\n",
    "x_train, x_test, y_train, y_test = train_test_split(x, y, test_size=0.3)"
   ]
  },
  {
   "cell_type": "code",
   "execution_count": 81,
   "metadata": {},
   "outputs": [
    {
     "name": "stdout",
     "output_type": "stream",
     "text": [
      "Coef: [9.1181022]\n",
      "Intercept: -34.662307438406785\n",
      "R2-Score: 0.4584649934303068\n"
     ]
    }
   ],
   "source": [
    "regr = LinearRegression()\n",
    "regr.fit(x_train, y_train)\n",
    "r2_score = regr.score(x_test, y_test)\n",
    "\n",
    "print(f\"Coef: {regr.coef_}\")\n",
    "print(f\"Intercept: {regr.intercept_}\")\n",
    "print(f\"R2-Score: {r2_score}\")"
   ]
  },
  {
   "cell_type": "markdown",
   "metadata": {},
   "source": [
    "### Non-linear Transformation:\n",
    "\n",
    "$\\vec{x} =\\left(\\!\n",
    "    \\begin{array}{c}\n",
    "      x_1 \\\\\n",
    "      x_2\n",
    "    \\end{array}\n",
    "  \\!\\right) $ Wir haben Datenpunkte mit z.B. 2 Features.  \n",
    "  \n",
    "$\\vec{z} = \\phi(\\vec{x})$   Wir wollen dann eine Transformation mit dem Grad=2 ausführen.  \n",
    "\n",
    "$\\vec{z} =\\left(\\!\n",
    "    \\begin{array}{c}\n",
    "      z_1 \\\\\n",
    "      \\vdots \\\\\n",
    "      z_9\n",
    "    \\end{array}\n",
    "  \\!\\right) $ Daraus resultierenden dann (in dem Beispiel) 6 Features.  "
   ]
  },
  {
   "cell_type": "code",
   "execution_count": 82,
   "metadata": {},
   "outputs": [],
   "source": [
    "from sklearn.preprocessing import PolynomialFeatures\n",
    "\n",
    "degree = 3\n",
    "pf = PolynomialFeatures(degree= degree)\n",
    "\n",
    "pf.fit(x_train)\n",
    "\n",
    "x_train_transformed = pf.transform(x_train)\n",
    "x_test_transformed = pf.transform(x_test)"
   ]
  },
  {
   "cell_type": "code",
   "execution_count": 83,
   "metadata": {},
   "outputs": [
    {
     "name": "stdout",
     "output_type": "stream",
     "text": [
      "(354, 1) (354, 4)\n",
      "(152, 1) (152, 4)\n"
     ]
    }
   ],
   "source": [
    "print(x_train.shape, x_train_transformed.shape)\n",
    "print(x_test.shape, x_test_transformed.shape)"
   ]
  },
  {
   "cell_type": "code",
   "execution_count": 84,
   "metadata": {},
   "outputs": [
    {
     "name": "stdout",
     "output_type": "stream",
     "text": [
      "Input feature count: 1\n",
      "Output feature count: 4\n",
      "Old feature names: [x0, x1]\n",
      "New feature names: ['1', 'x0', 'x0^2', 'x0^3']\n"
     ]
    }
   ],
   "source": [
    "print(f\"Input feature count: {pf.n_input_features_}\")\n",
    "print(f\"Output feature count: {pf.n_output_features_}\")\n",
    "print(\"Old feature names: [x0, x1]\")\n",
    "print(f\"New feature names: {pf.get_feature_names()}\")"
   ]
  },
  {
   "cell_type": "markdown",
   "metadata": {},
   "source": [
    "#### Polynomial Regression:\n",
    "\n",
    "$\\vec{y} = \\mathbf{Z}\\vec{\\beta} + \\vec{\\epsilon}$  \n",
    "$\\mathbf{Z}$ ist hier dann der Datensatz nach der Transformation."
   ]
  },
  {
   "cell_type": "code",
   "execution_count": 85,
   "metadata": {
    "scrolled": true
   },
   "outputs": [
    {
     "name": "stdout",
     "output_type": "stream",
     "text": [
      "Coef: [   0.         -115.82781708   17.62024917   -0.80641456]\n",
      "Intercept: 253.69150365133908\n",
      "R2-Score: 0.5837996977227156\n"
     ]
    }
   ],
   "source": [
    "poly_regr = LinearRegression()\n",
    "poly_regr.fit(x_train_transformed, y_train)\n",
    "r2_score = poly_regr.score(x_test_transformed, y_test)\n",
    "\n",
    "print(f\"Coef: {poly_regr.coef_}\")\n",
    "print(f\"Intercept: {poly_regr.intercept_}\")\n",
    "print(f\"R2-Score: {r2_score}\")"
   ]
  },
  {
   "cell_type": "markdown",
   "metadata": {},
   "source": [
    "#### Visualization"
   ]
  },
  {
   "cell_type": "code",
   "execution_count": 86,
   "metadata": {},
   "outputs": [],
   "source": [
    "def plot_residuals(regr, x_train, y_train, x_test, y_test):\n",
    "    y_pred_train = regr.predict(x_train)\n",
    "    y_pred_test = regr.predict(x_test)\n",
    "\n",
    "    min_val = min(np.min(y_pred_train), np.min(y_pred_test))\n",
    "    max_val = max(np.max(y_pred_train), np.max(y_pred_test))\n",
    "\n",
    "    plt.scatter(y_pred_train, y_pred_train - y_train, color=\"blue\")\n",
    "    plt.scatter(y_pred_test, y_pred_test - y_test, color=\"red\")\n",
    "    plt.hlines(y=0, xmin=min_val, xmax=max_val)\n",
    "    plt.legend([\"Train\", \"Test\"])\n",
    "    plt.show()"
   ]
  },
  {
   "cell_type": "code",
   "execution_count": 87,
   "metadata": {},
   "outputs": [
    {
     "data": {
      "image/png": "[encoded data removed]",
      "text/plain": [
       "<Figure size 432x288 with 1 Axes>"
      ]
     },
     "metadata": {},
     "output_type": "display_data"
    }
   ],
   "source": [
    "plot_residuals(regr, x_train, y_train, x_test, y_test)"
   ]
  },
  {
   "cell_type": "code",
   "execution_count": 88,
   "metadata": {},
   "outputs": [
    {
     "data": {
      "image/png": "[encoded data removed]",
      "text/plain": [
       "<Figure size 432x288 with 1 Axes>"
      ]
     },
     "metadata": {},
     "output_type": "display_data"
    }
   ],
   "source": [
    "plot_residuals(poly_regr, x_train_transformed, y_train, x_test_transformed, y_test)"
   ]
  }
 ],
 "metadata": {
  "kernelspec": {
   "display_name": "Python 3",
   "language": "python",
   "name": "python3"
  },
  "language_info": {
   "codemirror_mode": {
    "name": "ipython",
    "version": 3
   },
   "file_extension": ".py",
   "mimetype": "text/x-python",
   "name": "python",
   "nbconvert_exporter": "python",
   "pygments_lexer": "ipython3",
   "version": "3.9.7"
  }
 },
 "nbformat": 4,
 "nbformat_minor": 2
}
