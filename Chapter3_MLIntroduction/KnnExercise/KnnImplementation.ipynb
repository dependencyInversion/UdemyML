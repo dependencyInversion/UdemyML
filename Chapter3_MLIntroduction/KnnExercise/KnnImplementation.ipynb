{
 "cells": [
  {
   "cell_type": "code",
   "execution_count": 30,
   "metadata": {},
   "outputs": [],
   "source": [
    "import numpy as np\n",
    "np.random.seed(42)"
   ]
  },
  {
   "cell_type": "code",
   "execution_count": 31,
   "metadata": {},
   "outputs": [],
   "source": [
    "def generate_dataset():\n",
    "    num_samples_class1 = 10\n",
    "    num_samples_class2 = 6\n",
    "    num_samples_class3 = 13\n",
    "\n",
    "    cov = np.array([[1, 0], [0, 1]])\n",
    "\n",
    "    data1 = np.random.multivariate_normal(\n",
    "        np.array([0, 0]), cov, num_samples_class1\n",
    "    )\n",
    "    data2 = np.random.multivariate_normal(\n",
    "        np.array([-10, 4]), cov, num_samples_class2\n",
    "    )\n",
    "    data3 = np.random.multivariate_normal(\n",
    "        np.array([10, 10]), cov, num_samples_class3\n",
    "    )\n",
    "    data = np.concatenate((data1, data2, data3), axis=0)\n",
    "    classes = np.array(\n",
    "        [0 for i in range(num_samples_class1)] +\n",
    "        [1 for i in range(num_samples_class2)] +\n",
    "        [2 for i in range(num_samples_class3)]\n",
    "    )\n",
    "\n",
    "    return data, classes"
   ]
  },
  {
   "cell_type": "code",
   "execution_count": 32,
   "metadata": {},
   "outputs": [],
   "source": [
    "x, y = generate_dataset()"
   ]
  },
  {
   "cell_type": "code",
   "execution_count": 33,
   "metadata": {},
   "outputs": [
    {
     "name": "stdout",
     "output_type": "stream",
     "text": [
      "x shape: (29, 2)\n",
      "y shape: (29,)\n",
      "x:\n",
      "[[  0.49671415  -0.1382643 ]\n",
      " [  0.64768854   1.52302986]\n",
      " [ -0.23415337  -0.23413696]\n",
      " [  1.57921282   0.76743473]\n",
      " [ -0.46947439   0.54256004]\n",
      " [ -0.46341769  -0.46572975]\n",
      " [  0.24196227  -1.91328024]\n",
      " [ -1.72491783  -0.56228753]\n",
      " [ -1.01283112   0.31424733]\n",
      " [ -0.90802408  -1.4123037 ]\n",
      " [ -8.53435123   3.7742237 ]\n",
      " [ -9.9324718    2.57525181]\n",
      " [-10.54438272   4.11092259]\n",
      " [-11.15099358   4.37569802]\n",
      " [-10.60063869   3.70830625]\n",
      " [-10.60170661   5.85227818]\n",
      " [  9.98650278   8.94228907]\n",
      " [ 10.82254491   8.77915635]\n",
      " [ 10.2088636    8.04032988]\n",
      " [  8.67181395  10.19686124]\n",
      " [ 10.73846658  10.17136828]\n",
      " [  9.88435172   9.6988963 ]\n",
      " [  8.52147801   9.28015579]\n",
      " [  9.53936123  11.05712223]\n",
      " [ 10.34361829   8.23695984]\n",
      " [ 10.32408397   9.61491772]\n",
      " [  9.323078    10.61167629]\n",
      " [ 11.03099952  10.93128012]\n",
      " [  9.16078248   9.69078762]]\n",
      "y:\n",
      "[0 0 0 0 0 0 0 0 0 0 1 1 1 1 1 1 2 2 2 2 2 2 2 2 2 2 2 2 2]\n"
     ]
    }
   ],
   "source": [
    "print(f\"x shape: { x.shape }\")\n",
    "print(f\"y shape: { y.shape }\")\n",
    "\n",
    "print(f\"x:\\n{ x }\\ny:\\n{ y }\")"
   ]
  },
  {
   "cell_type": "code",
   "execution_count": 34,
   "metadata": {},
   "outputs": [],
   "source": [
    "import matplotlib.pyplot as plt\n",
    "\n",
    "def plot_dataset(x, y):\n",
    "    colors = [\"red\", \"blue\", \"green\"]\n",
    "    for index, point in enumerate(x):\n",
    "        plt.scatter(point[0], point[1], color=colors[y[index]])\n",
    "    plt.show()"
   ]
  },
  {
   "cell_type": "code",
   "execution_count": 35,
   "metadata": {},
   "outputs": [
    {
     "data": {
      "image/png": "[encoded data removed]",
      "text/plain": [
       "<Figure size 432x288 with 1 Axes>"
      ]
     },
     "metadata": {},
     "output_type": "display_data"
    }
   ],
   "source": [
    "plot_dataset(x, y)"
   ]
  },
  {
   "cell_type": "markdown",
   "metadata": {},
   "source": [
    "## KNN Implementation"
   ]
  },
  {
   "cell_type": "code",
   "execution_count": 61,
   "metadata": {},
   "outputs": [],
   "source": [
    "class KNeighborClassifier:\n",
    "    def __init__(self, n_neighbors: int = 5):\n",
    "        self.n_neighbors = n_neighbors\n",
    "        self.X: np.ndarray\n",
    "        self.y: np.ndarray\n",
    "        self.num_classes: int\n",
    "\n",
    "    def _distance(self, p1: np.ndarray, p2: np.ndarray):\n",
    "        return np.linalg.norm(p1 - p2)\n",
    "\n",
    "    def kneighbors(self, X: np.ndarray):\n",
    "        distances = np.array(\n",
    "            [[self._distance(sample, x_i) for x_i in self.X] for sample in X]\n",
    "        )\n",
    "        indices_of_nearest_neighbors = np.argsort(distances[:])\n",
    "\n",
    "        return indices_of_nearest_neighbors[:, :self.n_neighbors]\n",
    "\n",
    "    def fit(self, X: np.ndarray, y: np.ndarray):\n",
    "        self.X = X\n",
    "        self.y = y\n",
    "        self.num_classes = len(np.unique(self.y))\n",
    "\n",
    "    def _vote_class(self, k_neighbors_indices: np.ndarray):\n",
    "        votes = np.zeros(shape=(self.num_classes))\n",
    "        neighbors_classes = self.y[k_neighbors_indices]\n",
    "\n",
    "        for neighbor_class in neighbors_classes:\n",
    "            votes[neighbor_class] += 1\n",
    "\n",
    "        voted_class = np.argmax(votes)\n",
    "\n",
    "        return voted_class\n",
    "\n",
    "    def predict(self, X: np.ndarray):\n",
    "        kneighbors_indices = self.kneighbors(X)\n",
    "        y_pred = np.array([self._vote_class(kneighbor_index) for kneighbor_index in kneighbors_indices])\n",
    "        return y_pred\n",
    "\n",
    "    def score(self, X: np.ndarray, y: np.ndarray):\n",
    "        y_pred = self.predict(X)\n",
    "        accuracy = np.mean(y_pred == y)\n",
    "\n",
    "        return accuracy"
   ]
  },
  {
   "cell_type": "code",
   "execution_count": 64,
   "metadata": {},
   "outputs": [
    {
     "name": "stdout",
     "output_type": "stream",
     "text": [
      "x_test:\n",
      "[[ 0.  4.]\n",
      " [-5.  4.]]\n",
      "y_test:\n",
      "[0 1]\n",
      "y_pred:\n",
      "[0 1]\n",
      "accuracy:\n",
      "1.0\n"
     ]
    }
   ],
   "source": [
    "x_test = np.array(\n",
    "    [\n",
    "        [0.0, 4.0],\n",
    "        [-5.0, 4.0]\n",
    "    ]\n",
    ")\n",
    "y_test = np.array(\n",
    "    [0, 1]\n",
    ")\n",
    "\n",
    "clf = KNeighborClassifier(n_neighbors=3)\n",
    "clf.fit(x, y)\n",
    "\n",
    "y_pred = clf.predict(x_test)\n",
    "accuracy = clf.score(x_test, y_test)\n",
    "\n",
    "print(f\"x_test:\\n{x_test}\")\n",
    "print(f\"y_test:\\n{y_test}\")\n",
    "print(f\"y_pred:\\n{y_pred}\")\n",
    "print(f\"accuracy:\\n{accuracy}\")"
   ]
  },
  {
   "cell_type": "code",
   "execution_count": 103,
   "metadata": {},
   "outputs": [],
   "source": [
    "def plot_knn_prediction(\n",
    "    clf: KNeighborClassifier,\n",
    "    X_samples: np.ndarray,\n",
    "    y_pred: np.ndarray,\n",
    "    X: np.ndarray,\n",
    "    y: np.ndarray):\n",
    "\n",
    "    colors = [\"red\", \"blue\", \"green\"]\n",
    "\n",
    "    for index, point in enumerate(X):\n",
    "        plt.scatter(point[0], point[1],color = colors[y[index]])\n",
    "\n",
    "    neighbors_indices = clf.kneighbors(X_samples)\n",
    "\n",
    "    for index, position in enumerate(X_samples):\n",
    "        plt.scatter(position[0], position[1], color = colors[y_pred[index]], marker=\"*\", s=120)\n",
    "\n",
    "        neighbors_positions = clf.X[neighbors_indices[index]]\n",
    "        neighbors_classes = clf.y[neighbors_indices[index]]\n",
    "\n",
    "        for neighbor_position, neighbor_class in zip(neighbors_positions, neighbors_classes):\n",
    "            plt.plot((neighbor_position[0], position[0]), (neighbor_position[1], position[1]), color = colors[neighbor_class])\n",
    "\n",
    "\n",
    "    plt.show()\n"
   ]
  },
  {
   "cell_type": "code",
   "execution_count": 104,
   "metadata": {},
   "outputs": [
    {
     "data": {
      "image/png": "[encoded data removed]",
      "text/plain": [
       "<Figure size 432x288 with 1 Axes>"
      ]
     },
     "metadata": {},
     "output_type": "display_data"
    }
   ],
   "source": [
    "plot_knn_prediction(clf, x_test, y_pred, x, y)"
   ]
  }
 ],
 "metadata": {
  "interpreter": {
   "hash": "d88b4992e5b06b322ead3277a6c0c22aea73de159b15016e3d5eb1aecc84f355"
  },
  "kernelspec": {
   "display_name": "Python 3.9.7 64-bit ('base': conda)",
   "language": "python",
   "name": "python3"
  },
  "language_info": {
   "codemirror_mode": {
    "name": "ipython",
    "version": 3
   },
   "file_extension": ".py",
   "mimetype": "text/x-python",
   "name": "python",
   "nbconvert_exporter": "python",
   "pygments_lexer": "ipython3",
   "version": "3.9.7"
  },
  "orig_nbformat": 4
 },
 "nbformat": 4,
 "nbformat_minor": 2
}
