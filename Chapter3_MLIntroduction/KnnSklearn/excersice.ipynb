{
 "cells": [
  {
   "cell_type": "code",
   "execution_count": 35,
   "metadata": {},
   "outputs": [],
   "source": [
    "import numpy as np\n",
    "np.random.seed(42)\n",
    "from sklearn import datasets"
   ]
  },
  {
   "cell_type": "markdown",
   "metadata": {},
   "source": [
    "### Dataset preparation"
   ]
  },
  {
   "cell_type": "code",
   "execution_count": 47,
   "metadata": {},
   "outputs": [],
   "source": [
    "iris = datasets.load_iris()\n",
    "\n",
    "x = iris.data[:, :3] # [:, [0, 1]]\n",
    "y = iris.target\n",
    "\n",
    "class_names = iris.target_names\n",
    "discription = iris.DESCR"
   ]
  },
  {
   "cell_type": "code",
   "execution_count": 37,
   "metadata": {},
   "outputs": [],
   "source": [
    "# print(f\"class_names:\\n{class_names}\")\n",
    "# print(f\"discription:\\n{discription}\")"
   ]
  },
  {
   "cell_type": "code",
   "execution_count": 48,
   "metadata": {},
   "outputs": [
    {
     "name": "stdout",
     "output_type": "stream",
     "text": [
      "x shape:\n",
      "(150, 3)\n",
      "y shape:\n",
      "(150,)\n",
      "x:\n",
      "[[5.1 3.5 1.4]\n",
      " [4.9 3.  1.4]\n",
      " [4.7 3.2 1.3]\n",
      " [4.6 3.1 1.5]\n",
      " [5.  3.6 1.4]\n",
      " [5.4 3.9 1.7]\n",
      " [4.6 3.4 1.4]\n",
      " [5.  3.4 1.5]\n",
      " [4.4 2.9 1.4]\n",
      " [4.9 3.1 1.5]\n",
      " [5.4 3.7 1.5]\n",
      " [4.8 3.4 1.6]\n",
      " [4.8 3.  1.4]\n",
      " [4.3 3.  1.1]\n",
      " [5.8 4.  1.2]\n",
      " [5.7 4.4 1.5]\n",
      " [5.4 3.9 1.3]\n",
      " [5.1 3.5 1.4]\n",
      " [5.7 3.8 1.7]\n",
      " [5.1 3.8 1.5]\n",
      " [5.4 3.4 1.7]\n",
      " [5.1 3.7 1.5]\n",
      " [4.6 3.6 1. ]\n",
      " [5.1 3.3 1.7]\n",
      " [4.8 3.4 1.9]\n",
      " [5.  3.  1.6]\n",
      " [5.  3.4 1.6]\n",
      " [5.2 3.5 1.5]\n",
      " [5.2 3.4 1.4]\n",
      " [4.7 3.2 1.6]\n",
      " [4.8 3.1 1.6]\n",
      " [5.4 3.4 1.5]\n",
      " [5.2 4.1 1.5]\n",
      " [5.5 4.2 1.4]\n",
      " [4.9 3.1 1.5]\n",
      " [5.  3.2 1.2]\n",
      " [5.5 3.5 1.3]\n",
      " [4.9 3.6 1.4]\n",
      " [4.4 3.  1.3]\n",
      " [5.1 3.4 1.5]\n",
      " [5.  3.5 1.3]\n",
      " [4.5 2.3 1.3]\n",
      " [4.4 3.2 1.3]\n",
      " [5.  3.5 1.6]\n",
      " [5.1 3.8 1.9]\n",
      " [4.8 3.  1.4]\n",
      " [5.1 3.8 1.6]\n",
      " [4.6 3.2 1.4]\n",
      " [5.3 3.7 1.5]\n",
      " [5.  3.3 1.4]\n",
      " [7.  3.2 4.7]\n",
      " [6.4 3.2 4.5]\n",
      " [6.9 3.1 4.9]\n",
      " [5.5 2.3 4. ]\n",
      " [6.5 2.8 4.6]\n",
      " [5.7 2.8 4.5]\n",
      " [6.3 3.3 4.7]\n",
      " [4.9 2.4 3.3]\n",
      " [6.6 2.9 4.6]\n",
      " [5.2 2.7 3.9]\n",
      " [5.  2.  3.5]\n",
      " [5.9 3.  4.2]\n",
      " [6.  2.2 4. ]\n",
      " [6.1 2.9 4.7]\n",
      " [5.6 2.9 3.6]\n",
      " [6.7 3.1 4.4]\n",
      " [5.6 3.  4.5]\n",
      " [5.8 2.7 4.1]\n",
      " [6.2 2.2 4.5]\n",
      " [5.6 2.5 3.9]\n",
      " [5.9 3.2 4.8]\n",
      " [6.1 2.8 4. ]\n",
      " [6.3 2.5 4.9]\n",
      " [6.1 2.8 4.7]\n",
      " [6.4 2.9 4.3]\n",
      " [6.6 3.  4.4]\n",
      " [6.8 2.8 4.8]\n",
      " [6.7 3.  5. ]\n",
      " [6.  2.9 4.5]\n",
      " [5.7 2.6 3.5]\n",
      " [5.5 2.4 3.8]\n",
      " [5.5 2.4 3.7]\n",
      " [5.8 2.7 3.9]\n",
      " [6.  2.7 5.1]\n",
      " [5.4 3.  4.5]\n",
      " [6.  3.4 4.5]\n",
      " [6.7 3.1 4.7]\n",
      " [6.3 2.3 4.4]\n",
      " [5.6 3.  4.1]\n",
      " [5.5 2.5 4. ]\n",
      " [5.5 2.6 4.4]\n",
      " [6.1 3.  4.6]\n",
      " [5.8 2.6 4. ]\n",
      " [5.  2.3 3.3]\n",
      " [5.6 2.7 4.2]\n",
      " [5.7 3.  4.2]\n",
      " [5.7 2.9 4.2]\n",
      " [6.2 2.9 4.3]\n",
      " [5.1 2.5 3. ]\n",
      " [5.7 2.8 4.1]\n",
      " [6.3 3.3 6. ]\n",
      " [5.8 2.7 5.1]\n",
      " [7.1 3.  5.9]\n",
      " [6.3 2.9 5.6]\n",
      " [6.5 3.  5.8]\n",
      " [7.6 3.  6.6]\n",
      " [4.9 2.5 4.5]\n",
      " [7.3 2.9 6.3]\n",
      " [6.7 2.5 5.8]\n",
      " [7.2 3.6 6.1]\n",
      " [6.5 3.2 5.1]\n",
      " [6.4 2.7 5.3]\n",
      " [6.8 3.  5.5]\n",
      " [5.7 2.5 5. ]\n",
      " [5.8 2.8 5.1]\n",
      " [6.4 3.2 5.3]\n",
      " [6.5 3.  5.5]\n",
      " [7.7 3.8 6.7]\n",
      " [7.7 2.6 6.9]\n",
      " [6.  2.2 5. ]\n",
      " [6.9 3.2 5.7]\n",
      " [5.6 2.8 4.9]\n",
      " [7.7 2.8 6.7]\n",
      " [6.3 2.7 4.9]\n",
      " [6.7 3.3 5.7]\n",
      " [7.2 3.2 6. ]\n",
      " [6.2 2.8 4.8]\n",
      " [6.1 3.  4.9]\n",
      " [6.4 2.8 5.6]\n",
      " [7.2 3.  5.8]\n",
      " [7.4 2.8 6.1]\n",
      " [7.9 3.8 6.4]\n",
      " [6.4 2.8 5.6]\n",
      " [6.3 2.8 5.1]\n",
      " [6.1 2.6 5.6]\n",
      " [7.7 3.  6.1]\n",
      " [6.3 3.4 5.6]\n",
      " [6.4 3.1 5.5]\n",
      " [6.  3.  4.8]\n",
      " [6.9 3.1 5.4]\n",
      " [6.7 3.1 5.6]\n",
      " [6.9 3.1 5.1]\n",
      " [5.8 2.7 5.1]\n",
      " [6.8 3.2 5.9]\n",
      " [6.7 3.3 5.7]\n",
      " [6.7 3.  5.2]\n",
      " [6.3 2.5 5. ]\n",
      " [6.5 3.  5.2]\n",
      " [6.2 3.4 5.4]\n",
      " [5.9 3.  5.1]]\n",
      "y:\n",
      "[0 0 0 0 0 0 0 0 0 0 0 0 0 0 0 0 0 0 0 0 0 0 0 0 0 0 0 0 0 0 0 0 0 0 0 0 0\n",
      " 0 0 0 0 0 0 0 0 0 0 0 0 0 1 1 1 1 1 1 1 1 1 1 1 1 1 1 1 1 1 1 1 1 1 1 1 1\n",
      " 1 1 1 1 1 1 1 1 1 1 1 1 1 1 1 1 1 1 1 1 1 1 1 1 1 1 2 2 2 2 2 2 2 2 2 2 2\n",
      " 2 2 2 2 2 2 2 2 2 2 2 2 2 2 2 2 2 2 2 2 2 2 2 2 2 2 2 2 2 2 2 2 2 2 2 2 2\n",
      " 2 2]\n"
     ]
    }
   ],
   "source": [
    "print(f\"x shape:\\n{x.shape}\")\n",
    "print(f\"y shape:\\n{y.shape}\")\n",
    "\n",
    "print(f\"x:\\n{x}\")\n",
    "print(f\"y:\\n{y}\")"
   ]
  },
  {
   "cell_type": "markdown",
   "metadata": {},
   "source": [
    "### Dataset Split"
   ]
  },
  {
   "cell_type": "code",
   "execution_count": 49,
   "metadata": {
    "scrolled": true
   },
   "outputs": [
    {
     "name": "stdout",
     "output_type": "stream",
     "text": [
      "num_samples: 150\n",
      "num_features: 3\n",
      "num_classes: 150\n"
     ]
    }
   ],
   "source": [
    "num_samples = x.shape[0]\n",
    "num_features = x.shape[1]\n",
    "num_classes = y.shape[0]\n",
    "\n",
    "print(f\"num_samples: {num_samples}\")\n",
    "print(f\"num_features: {num_features}\")\n",
    "print(f\"num_classes: {num_classes}\")"
   ]
  },
  {
   "cell_type": "code",
   "execution_count": 50,
   "metadata": {},
   "outputs": [],
   "source": [
    "test_size = num_samples // 3\n",
    "random_idxs = np.random.permutation(num_samples)\n",
    "\n",
    "x_train = x[random_idxs[:-test_size]]\n",
    "y_train = y[random_idxs[:-test_size]]\n",
    "\n",
    "x_test = x[random_idxs[-test_size:]]\n",
    "y_test = y[random_idxs[-test_size:]]"
   ]
  },
  {
   "cell_type": "code",
   "execution_count": 51,
   "metadata": {
    "scrolled": true
   },
   "outputs": [
    {
     "name": "stdout",
     "output_type": "stream",
     "text": [
      "x_train shape:\n",
      "(100, 3)\n",
      "y_train shape:\n",
      "(100,)\n",
      "x_test shape:\n",
      "(50, 3)\n",
      "y_test shape:\n",
      "(50,)\n"
     ]
    }
   ],
   "source": [
    "print(f\"x_train shape:\\n{x_train.shape}\")\n",
    "print(f\"y_train shape:\\n{y_train.shape}\")\n",
    "\n",
    "print(f\"x_test shape:\\n{x_test.shape}\")\n",
    "print(f\"y_test shape:\\n{y_test.shape}\")"
   ]
  },
  {
   "cell_type": "markdown",
   "metadata": {},
   "source": [
    "### KNN Model"
   ]
  },
  {
   "cell_type": "code",
   "execution_count": 52,
   "metadata": {},
   "outputs": [
    {
     "name": "stdout",
     "output_type": "stream",
     "text": [
      "accuracy: 92.0%\n",
      "y_pred:\n",
      "[2 1 2 1 1 1 0 1 1 0 2 2 1 1 0 1 0 2 1 1 2 0 2 1 2 2 2 0 2 2 1 1 1 0 2 0 2\n",
      " 1 2 2 1 0 1 0 1 1 0 0 0 2]\n"
     ]
    }
   ],
   "source": [
    "from sklearn.neighbors import KNeighborsClassifier\n",
    "\n",
    "clf = KNeighborsClassifier(n_neighbors=3)\n",
    "clf.fit(x_train, y_train)\n",
    "\n",
    "accuracy = clf.score(x_test, y_test)\n",
    "print(f\"accuracy: {accuracy*100.0:.4}%\")\n",
    "\n",
    "y_pred = clf.predict(x_test)\n",
    "print(f\"y_pred:\\n{y_pred}\")"
   ]
  },
  {
   "cell_type": "markdown",
   "metadata": {},
   "source": [
    "### Try different hyperparameters"
   ]
  },
  {
   "cell_type": "code",
   "execution_count": 53,
   "metadata": {
    "scrolled": true
   },
   "outputs": [
    {
     "name": "stdout",
     "output_type": "stream",
     "text": [
      "Neighbors: 1  Weight: uniform  Score: 0.9\n",
      "Neighbors: 1  Weight: distance  Score: 0.9\n",
      "Neighbors: 2  Weight: uniform  Score: 0.92\n",
      "Neighbors: 2  Weight: distance  Score: 0.9\n",
      "Neighbors: 3  Weight: uniform  Score: 0.92\n",
      "Neighbors: 3  Weight: distance  Score: 0.92\n",
      "Neighbors: 4  Weight: uniform  Score: 0.92\n",
      "Neighbors: 4  Weight: distance  Score: 0.92\n",
      "Neighbors: 5  Weight: uniform  Score: 0.94\n",
      "Neighbors: 5  Weight: distance  Score: 0.94\n",
      "Neighbors: 6  Weight: uniform  Score: 0.92\n",
      "Neighbors: 6  Weight: distance  Score: 0.92\n",
      "Neighbors: 7  Weight: uniform  Score: 0.96\n",
      "Neighbors: 7  Weight: distance  Score: 0.94\n",
      "Neighbors: 8  Weight: uniform  Score: 0.94\n",
      "Neighbors: 8  Weight: distance  Score: 0.94\n",
      "Neighbors: 9  Weight: uniform  Score: 0.96\n",
      "Neighbors: 9  Weight: distance  Score: 0.94\n",
      "Neighbors: 10  Weight: uniform  Score: 0.94\n",
      "Neighbors: 10  Weight: distance  Score: 0.94\n"
     ]
    }
   ],
   "source": [
    "n_neighbors = [n_neighbor for n_neighbor in range(1, 11)] # [1, 2, ..., 10]\n",
    "weight_modes = ['uniform', 'distance']\n",
    "\n",
    "# 10 x 2 = 20 Models\n",
    "for n_neighbor in n_neighbors:\n",
    "    for weight_mode in weight_modes:\n",
    "        clf = KNeighborsClassifier(\n",
    "            n_neighbors=n_neighbor,\n",
    "            weights=weight_mode\n",
    "        )\n",
    "        clf.fit(x_train, y_train)\n",
    "        accuracy = clf.score(x_test, y_test)\n",
    "        print(f\"Neighbors: {n_neighbor}  Weight: {weight_mode}  Score: {accuracy:.4}\")"
   ]
  },
  {
   "cell_type": "markdown",
   "metadata": {},
   "source": [
    "### Best KNN Model"
   ]
  },
  {
   "cell_type": "code",
   "execution_count": 54,
   "metadata": {
    "scrolled": true
   },
   "outputs": [
    {
     "name": "stdout",
     "output_type": "stream",
     "text": [
      "accuracy: 96.0%\n",
      "y_pred:\n",
      "[2 1 2 1 1 1 0 1 1 0 2 2 1 1 0 1 0 2 1 1 2 0 2 1 2 2 2 0 2 2 1 2 1 0 2 0 2\n",
      " 2 2 2 1 0 1 0 1 1 0 0 0 2]\n",
      "y_pred_proba:\n",
      "[[0.         0.         1.        ]\n",
      " [0.         1.         0.        ]\n",
      " [0.         0.         1.        ]\n",
      " [0.         1.         0.        ]\n",
      " [0.         0.85714286 0.14285714]\n",
      " [0.         1.         0.        ]\n",
      " [1.         0.         0.        ]\n",
      " [0.         0.85714286 0.14285714]\n",
      " [0.         1.         0.        ]\n",
      " [1.         0.         0.        ]\n",
      " [0.         0.         1.        ]\n",
      " [0.         0.         1.        ]\n",
      " [0.         0.57142857 0.42857143]\n",
      " [0.         1.         0.        ]\n",
      " [1.         0.         0.        ]\n",
      " [0.         0.57142857 0.42857143]\n",
      " [1.         0.         0.        ]\n",
      " [0.         0.         1.        ]\n",
      " [0.         1.         0.        ]\n",
      " [0.         1.         0.        ]\n",
      " [0.         0.         1.        ]\n",
      " [1.         0.         0.        ]\n",
      " [0.         0.         1.        ]\n",
      " [0.         0.71428571 0.28571429]\n",
      " [0.         0.         1.        ]\n",
      " [0.         0.         1.        ]\n",
      " [0.         0.         1.        ]\n",
      " [1.         0.         0.        ]\n",
      " [0.         0.         1.        ]\n",
      " [0.         0.         1.        ]\n",
      " [0.         0.85714286 0.14285714]\n",
      " [0.         0.42857143 0.57142857]\n",
      " [0.         1.         0.        ]\n",
      " [1.         0.         0.        ]\n",
      " [0.         0.14285714 0.85714286]\n",
      " [1.         0.         0.        ]\n",
      " [0.         0.         1.        ]\n",
      " [0.         0.42857143 0.57142857]\n",
      " [0.         0.         1.        ]\n",
      " [0.         0.28571429 0.71428571]\n",
      " [0.         1.         0.        ]\n",
      " [1.         0.         0.        ]\n",
      " [0.         1.         0.        ]\n",
      " [1.         0.         0.        ]\n",
      " [0.         1.         0.        ]\n",
      " [0.         0.57142857 0.42857143]\n",
      " [1.         0.         0.        ]\n",
      " [1.         0.         0.        ]\n",
      " [1.         0.         0.        ]\n",
      " [0.         0.28571429 0.71428571]]\n"
     ]
    }
   ],
   "source": [
    "clf = KNeighborsClassifier(\n",
    "    n_neighbors=7,\n",
    "    weights=\"uniform\"\n",
    ")\n",
    "clf.fit(x_train, y_train)\n",
    "\n",
    "accuracy = clf.score(x_test, y_test)\n",
    "print(f\"accuracy: {accuracy*100.0:.4}%\")\n",
    "\n",
    "y_pred = clf.predict(x_test)\n",
    "print(f\"y_pred:\\n{y_pred}\")\n",
    "\n",
    "y_pred_proba = clf.predict_proba(x_test)\n",
    "print(f\"y_pred_proba:\\n{y_pred_proba}\")"
   ]
  },
  {
   "cell_type": "markdown",
   "metadata": {},
   "source": [
    "### Decision Border Plot"
   ]
  },
  {
   "cell_type": "code",
   "execution_count": 45,
   "metadata": {},
   "outputs": [],
   "source": [
    "import matplotlib.pyplot as plt\n",
    "from matplotlib.colors import ListedColormap\n",
    "\n",
    "cmap_background = ListedColormap([\n",
    "    '#FFAAAA',\n",
    "    '#AAAAFF',\n",
    "    '#AAFFAA'\n",
    "])\n",
    "cmap_points = [\n",
    "    'red',\n",
    "    'blue', \n",
    "    'green'\n",
    "]\n",
    "\n",
    "def make_meshgrid(x: np.ndarray, y: np.ndarray):\n",
    "    x = np.arange(\n",
    "        np.min(x) - 1, np.max(x) + 1, 0.01\n",
    "    ) # [4.0, 4.01, 4.02, .... 8.0]\n",
    "    y = np.arange(\n",
    "        np.min(y) - 1, np.max(y) + 1, 0.01\n",
    "    ) # [2.0, 2.01, 2.02, .... 4.5]\n",
    "    xx, yy = np.meshgrid(x, y)\n",
    "    return xx, yy\n",
    "\n",
    "def plot_contours(\n",
    "    ax: plt.Axes,\n",
    "    clf: KNeighborsClassifier,\n",
    "    xx: np.ndarray,\n",
    "    yy: np.ndarray,\n",
    "    **params\n",
    ") -> None:\n",
    "    z = clf.predict(np.c_[xx.ravel(), yy.ravel()])\n",
    "    z = np.reshape(z, (xx.shape))\n",
    "    ax.contourf(xx, yy, z, **params)\n",
    "\n",
    "def plot_decision_border(\n",
    "    clf: KNeighborsClassifier,\n",
    "    x_train: np.ndarray,\n",
    "    y_train: np.ndarray,\n",
    "    x_test: np.ndarray,\n",
    "    y_test: np.ndarray\n",
    ") -> None:\n",
    "    fig, ax = plt.subplots()\n",
    "    X0 = x_train[:, 0]\n",
    "    X1 = x_train[:, 1]\n",
    "    xx, yy = make_meshgrid(X0, X1)\n",
    "    plot_contours(\n",
    "        ax, clf, xx, yy, cmap=cmap_background, alpha=0.5\n",
    "    )\n",
    "    for idx, point in enumerate(x_train):\n",
    "        plt.scatter(\n",
    "            point[0], point[1],\n",
    "            color=cmap_points[y_train[idx]],\n",
    "            s=20.0, marker=\"o\"\n",
    "        )\n",
    "    for idx, point in enumerate(x_test):\n",
    "        plt.scatter(\n",
    "            point[0], point[1],\n",
    "            color=cmap_points[y_test[idx]],\n",
    "            s=30.0, marker=\"*\"\n",
    "        )\n",
    "    plt.show()"
   ]
  },
  {
   "cell_type": "code",
   "execution_count": 46,
   "metadata": {},
   "outputs": [
    {
     "data": {
      "image/png": "[encoded data removed]",
      "text/plain": [
       "<Figure size 432x288 with 1 Axes>"
      ]
     },
     "metadata": {},
     "output_type": "display_data"
    }
   ],
   "source": [
    "plot_decision_border(clf, x_train, y_train, x_test, y_test)"
   ]
  }
 ],
 "metadata": {
  "kernelspec": {
   "display_name": "Python 3",
   "language": "python",
   "name": "python3"
  },
  "language_info": {
   "codemirror_mode": {
    "name": "ipython",
    "version": 3
   },
   "file_extension": ".py",
   "mimetype": "text/x-python",
   "name": "python",
   "nbconvert_exporter": "python",
   "pygments_lexer": "ipython3",
   "version": "3.9.7"
  }
 },
 "nbformat": 4,
 "nbformat_minor": 4
}
